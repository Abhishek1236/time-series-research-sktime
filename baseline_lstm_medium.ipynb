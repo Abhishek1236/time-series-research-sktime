{
  "nbformat": 4,
  "nbformat_minor": 0,
  "metadata": {
    "colab": {
      "name": "baseline_lstm_medium.ipynb",
      "provenance": [],
      "authorship_tag": "ABX9TyOLbzUBaqWysW8mX27qOD3T",
      "include_colab_link": true
    },
    "kernelspec": {
      "name": "python3",
      "display_name": "Python 3"
    }
  },
  "cells": [
    {
      "cell_type": "markdown",
      "metadata": {
        "id": "view-in-github",
        "colab_type": "text"
      },
      "source": [
        "<a href=\"https://colab.research.google.com/github/Abhishek1236/time-series-research-sktime/blob/main/baseline_lstm_medium.ipynb\" target=\"_parent\"><img src=\"https://colab.research.google.com/assets/colab-badge.svg\" alt=\"Open In Colab\"/></a>"
      ]
    },
    {
      "cell_type": "code",
      "metadata": {
        "id": "Xi_0JWWy6L3w"
      },
      "source": [
        "import pandas as pd\r\n",
        "import numpy as np \r\n",
        "from keras.models import Sequential\r\n",
        "from keras.layers import Dense, Dropout, LSTM\r\n",
        "from keras.optimizers import Adam\r\n",
        "from sklearn.preprocessing import StandardScaler\r\n",
        "from datetime import datetime,timedelta\r\n",
        "import datetime \r\n",
        "\r\n"
      ],
      "execution_count": 1,
      "outputs": []
    },
    {
      "cell_type": "code",
      "metadata": {
        "id": "93Z1Sn7J8Ef9"
      },
      "source": [
        "data = pd.read_excel('/content/Event.xlsx')"
      ],
      "execution_count": 3,
      "outputs": []
    },
    {
      "cell_type": "code",
      "metadata": {
        "id": "AvGFJ_fH8PH0"
      },
      "source": [
        "df_medium = data[['Date','MEDIUM']]"
      ],
      "execution_count": 4,
      "outputs": []
    },
    {
      "cell_type": "code",
      "metadata": {
        "colab": {
          "base_uri": "https://localhost:8080/",
          "height": 204
        },
        "id": "w4kitOPL8Ull",
        "outputId": "ceaf109b-4044-4d1d-e5ce-5072f59a2813"
      },
      "source": [
        "df_medium.head()"
      ],
      "execution_count": 5,
      "outputs": [
        {
          "output_type": "execute_result",
          "data": {
            "text/html": [
              "<div>\n",
              "<style scoped>\n",
              "    .dataframe tbody tr th:only-of-type {\n",
              "        vertical-align: middle;\n",
              "    }\n",
              "\n",
              "    .dataframe tbody tr th {\n",
              "        vertical-align: top;\n",
              "    }\n",
              "\n",
              "    .dataframe thead th {\n",
              "        text-align: right;\n",
              "    }\n",
              "</style>\n",
              "<table border=\"1\" class=\"dataframe\">\n",
              "  <thead>\n",
              "    <tr style=\"text-align: right;\">\n",
              "      <th></th>\n",
              "      <th>Date</th>\n",
              "      <th>MEDIUM</th>\n",
              "    </tr>\n",
              "  </thead>\n",
              "  <tbody>\n",
              "    <tr>\n",
              "      <th>0</th>\n",
              "      <td>2012-01-01</td>\n",
              "      <td>50</td>\n",
              "    </tr>\n",
              "    <tr>\n",
              "      <th>1</th>\n",
              "      <td>2012-01-02</td>\n",
              "      <td>52</td>\n",
              "    </tr>\n",
              "    <tr>\n",
              "      <th>2</th>\n",
              "      <td>2012-01-04</td>\n",
              "      <td>52</td>\n",
              "    </tr>\n",
              "    <tr>\n",
              "      <th>3</th>\n",
              "      <td>2012-01-05</td>\n",
              "      <td>50</td>\n",
              "    </tr>\n",
              "    <tr>\n",
              "      <th>4</th>\n",
              "      <td>2012-01-06</td>\n",
              "      <td>50</td>\n",
              "    </tr>\n",
              "  </tbody>\n",
              "</table>\n",
              "</div>"
            ],
            "text/plain": [
              "        Date  MEDIUM\n",
              "0 2012-01-01      50\n",
              "1 2012-01-02      52\n",
              "2 2012-01-04      52\n",
              "3 2012-01-05      50\n",
              "4 2012-01-06      50"
            ]
          },
          "metadata": {
            "tags": []
          },
          "execution_count": 5
        }
      ]
    },
    {
      "cell_type": "code",
      "metadata": {
        "id": "db3lUOZu8e_I"
      },
      "source": [
        "med_data = df_medium['MEDIUM'].values"
      ],
      "execution_count": 6,
      "outputs": []
    },
    {
      "cell_type": "code",
      "metadata": {
        "id": "gWz6Tr2n9fEJ"
      },
      "source": [
        "med_data_copy = med_data.copy()"
      ],
      "execution_count": 7,
      "outputs": []
    },
    {
      "cell_type": "code",
      "metadata": {
        "id": "qoqk_DZf9o0f"
      },
      "source": [
        "med_for_scale = med_data.reshape(-1,1)"
      ],
      "execution_count": 8,
      "outputs": []
    },
    {
      "cell_type": "code",
      "metadata": {
        "id": "AvZeonMX8rns"
      },
      "source": [
        "scaler = StandardScaler()\r\n",
        "scaler = scaler.fit(med_for_scale)\r\n",
        "df_med = scaler.transform(med_for_scale)"
      ],
      "execution_count": 9,
      "outputs": []
    },
    {
      "cell_type": "code",
      "metadata": {
        "colab": {
          "base_uri": "https://localhost:8080/"
        },
        "id": "2eLA_u_J830U",
        "outputId": "db2f49a1-2886-4003-8d62-8759d5355b06"
      },
      "source": [
        "df_med"
      ],
      "execution_count": 10,
      "outputs": [
        {
          "output_type": "execute_result",
          "data": {
            "text/plain": [
              "array([[-1.78655062],\n",
              "       [-1.65725989],\n",
              "       [-1.65725989],\n",
              "       ...,\n",
              "       [-1.39867842],\n",
              "       [-1.39867842],\n",
              "       [-1.39867842]])"
            ]
          },
          "metadata": {
            "tags": []
          },
          "execution_count": 10
        }
      ]
    },
    {
      "cell_type": "code",
      "metadata": {
        "id": "C17EdihTAG8f"
      },
      "source": [
        "Train = []\r\n",
        "Test = []\r\n",
        "n_future = 1\r\n",
        "n_past = 40\r\n",
        "for i in range(n_past,len(df_med),n_future+1):\r\n",
        "  Train.append(df_med[i-n_past:i,0:df_med.shape[1]])\r\n",
        "  Test.append(df_med[i + n_future - 1:i + n_future,0])\r\n",
        "\r\n",
        "Train,Test = np.array(Train),np.array(Test)"
      ],
      "execution_count": 11,
      "outputs": []
    },
    {
      "cell_type": "code",
      "metadata": {
        "id": "_NwMu_8tAUfx"
      },
      "source": [
        "'''\r\n",
        "size = len(df_med)\r\n",
        "training_size = int(size - (0.8*size))\r\n",
        "x_train,y_train = Train[:training_size],Train[training_size:]\r\n",
        "x_test,y_test = Test[:training_size],Test[training_size:]\r\n",
        "'''"
      ],
      "execution_count": 12,
      "outputs": []
    },
    {
      "cell_type": "code",
      "metadata": {
        "colab": {
          "base_uri": "https://localhost:8080/"
        },
        "id": "Z0PflVdxEtpp",
        "outputId": "8ff08078-ca3d-48fd-9aab-f0b8853a600f"
      },
      "source": [
        "#Building the model \r\n",
        "model = Sequential()\r\n",
        "model.add(LSTM(64,activation = 'relu',input_shape = (Train.shape[1],Train.shape[2]),return_sequences=True))\r\n",
        "model.add(LSTM(32,activation='relu',return_sequences=True))\r\n",
        "model.add(Dropout(0.2))\r\n",
        "model.add(LSTM(16,activation='relu'))\r\n",
        "model.add(Dropout(0.2))\r\n",
        "model.add(Dense(Test.shape[1]))\r\n",
        "model.compile(optimizer='adam',loss = 'mse')\r\n",
        "model.summary()\r\n"
      ],
      "execution_count": 18,
      "outputs": [
        {
          "output_type": "stream",
          "text": [
            "Model: \"sequential_5\"\n",
            "_________________________________________________________________\n",
            "Layer (type)                 Output Shape              Param #   \n",
            "=================================================================\n",
            "lstm_14 (LSTM)               (None, 40, 64)            16896     \n",
            "_________________________________________________________________\n",
            "lstm_15 (LSTM)               (None, 40, 32)            12416     \n",
            "_________________________________________________________________\n",
            "dropout_7 (Dropout)          (None, 40, 32)            0         \n",
            "_________________________________________________________________\n",
            "lstm_16 (LSTM)               (None, 16)                3136      \n",
            "_________________________________________________________________\n",
            "dropout_8 (Dropout)          (None, 16)                0         \n",
            "_________________________________________________________________\n",
            "dense_4 (Dense)              (None, 1)                 17        \n",
            "=================================================================\n",
            "Total params: 32,465\n",
            "Trainable params: 32,465\n",
            "Non-trainable params: 0\n",
            "_________________________________________________________________\n"
          ],
          "name": "stdout"
        }
      ]
    },
    {
      "cell_type": "code",
      "metadata": {
        "colab": {
          "base_uri": "https://localhost:8080/"
        },
        "id": "qY3Y-TbKFJ9c",
        "outputId": "1a08ff01-3e5e-4484-92d0-c15e81866979"
      },
      "source": [
        "history = model.fit(Train,Test,epochs=15,batch_size=16,validation_split=0.25,verbose=2)"
      ],
      "execution_count": 19,
      "outputs": [
        {
          "output_type": "stream",
          "text": [
            "Epoch 1/15\n",
            "67/67 - 6s - loss: 0.4397 - val_loss: 1.4524\n",
            "Epoch 2/15\n",
            "67/67 - 3s - loss: 0.2570 - val_loss: 0.4810\n",
            "Epoch 3/15\n",
            "67/67 - 3s - loss: 0.2279 - val_loss: 0.3223\n",
            "Epoch 4/15\n",
            "67/67 - 3s - loss: 0.2044 - val_loss: 0.3072\n",
            "Epoch 5/15\n",
            "67/67 - 3s - loss: 0.2051 - val_loss: 0.3005\n",
            "Epoch 6/15\n",
            "67/67 - 3s - loss: 0.1959 - val_loss: 0.2507\n",
            "Epoch 7/15\n",
            "67/67 - 3s - loss: 0.1797 - val_loss: 0.2925\n",
            "Epoch 8/15\n",
            "67/67 - 3s - loss: 0.1873 - val_loss: 0.2907\n",
            "Epoch 9/15\n",
            "67/67 - 3s - loss: 0.1664 - val_loss: 0.2293\n",
            "Epoch 10/15\n",
            "67/67 - 3s - loss: 0.1628 - val_loss: 0.2412\n",
            "Epoch 11/15\n",
            "67/67 - 3s - loss: 0.1627 - val_loss: 0.2511\n",
            "Epoch 12/15\n",
            "67/67 - 3s - loss: 0.1439 - val_loss: 0.1908\n",
            "Epoch 13/15\n",
            "67/67 - 3s - loss: 0.1408 - val_loss: 0.1826\n",
            "Epoch 14/15\n",
            "67/67 - 3s - loss: 0.1333 - val_loss: 0.1568\n",
            "Epoch 15/15\n",
            "67/67 - 3s - loss: 0.1293 - val_loss: 0.1951\n"
          ],
          "name": "stdout"
        }
      ]
    },
    {
      "cell_type": "code",
      "metadata": {
        "id": "CuGVeoLSQzGt"
      },
      "source": [
        "model.save('baseline.h5')"
      ],
      "execution_count": 21,
      "outputs": []
    },
    {
      "cell_type": "code",
      "metadata": {
        "colab": {
          "base_uri": "https://localhost:8080/",
          "height": 282
        },
        "id": "QGX6g-IbPmom",
        "outputId": "0cf94937-e84e-4523-cbdb-a42dd80f7cc7"
      },
      "source": [
        "import matplotlib.pyplot as plt\r\n",
        "plt.plot(history.history['loss'],label = 'training_loss')\r\n",
        "plt.plot(history.history['val_loss'],label = 'validation_loss')\r\n",
        "plt.legend()"
      ],
      "execution_count": 20,
      "outputs": [
        {
          "output_type": "execute_result",
          "data": {
            "text/plain": [
              "<matplotlib.legend.Legend at 0x7f311a487cf8>"
            ]
          },
          "metadata": {
            "tags": []
          },
          "execution_count": 20
        },
        {
          "output_type": "display_data",
          "data": {
            "image/png": "[encoded data removed]",
            "text/plain": [
              "<Figure size 432x288 with 1 Axes>"
            ]
          },
          "metadata": {
            "tags": [],
            "needs_background": "light"
          }
        }
      ]
    },
    {
      "cell_type": "code",
      "metadata": {
        "id": "6ceOlhUWcP5t"
      },
      "source": [
        "train_data_dates = df_medium['Date']"
      ],
      "execution_count": 31,
      "outputs": []
    },
    {
      "cell_type": "code",
      "metadata": {
        "id": "nE6IzxEKfTvQ"
      },
      "source": [
        ""
      ],
      "execution_count": 37,
      "outputs": []
    },
    {
      "cell_type": "code",
      "metadata": {
        "id": "tAH1gjK4QVLq"
      },
      "source": [
        "n_future = 40\r\n",
        "forecast_period_dates = pd.date_range(list(train_data_dates)[-1],periods=n_future,freq='1d').tolist()\r\n",
        "forecast = model.predict(Train[-n_future:])"
      ],
      "execution_count": 36,
      "outputs": []
    },
    {
      "cell_type": "code",
      "metadata": {
        "id": "SQKglrd3gSDm"
      },
      "source": [
        "forecast_dates = []\r\n",
        "for i in forecast_period_dates:\r\n",
        "  forecast_dates.append(i.date())"
      ],
      "execution_count": 39,
      "outputs": []
    },
    {
      "cell_type": "code",
      "metadata": {
        "id": "JLVhGRUpeMqZ"
      },
      "source": [
        "y_pred = scaler.inverse_transform(forecast)\r\n",
        "y_pred"
      ],
      "execution_count": null,
      "outputs": []
    },
    {
      "cell_type": "code",
      "metadata": {
        "id": "ga26hNVOfePR"
      },
      "source": [
        "dates = pd.DataFrame(forecast_dates,columns=['Date'])\r\n",
        "predi = pd.DataFrame(y_pred,columns=['Medium'])\r\n",
        "predi['Medium'] = (predi['Medium']).astype(int)\r\n",
        "med_predicted = pd.concat([dates,predi],axis = 1)"
      ],
      "execution_count": 48,
      "outputs": []
    },
    {
      "cell_type": "code",
      "metadata": {
        "colab": {
          "base_uri": "https://localhost:8080/",
          "height": 204
        },
        "id": "YIqw542Rg4aT",
        "outputId": "dc36df7b-90b4-4e7b-b466-609da7dafa84"
      },
      "source": [
        "med_predicted.head()"
      ],
      "execution_count": 49,
      "outputs": [
        {
          "output_type": "execute_result",
          "data": {
            "text/html": [
              "<div>\n",
              "<style scoped>\n",
              "    .dataframe tbody tr th:only-of-type {\n",
              "        vertical-align: middle;\n",
              "    }\n",
              "\n",
              "    .dataframe tbody tr th {\n",
              "        vertical-align: top;\n",
              "    }\n",
              "\n",
              "    .dataframe thead th {\n",
              "        text-align: right;\n",
              "    }\n",
              "</style>\n",
              "<table border=\"1\" class=\"dataframe\">\n",
              "  <thead>\n",
              "    <tr style=\"text-align: right;\">\n",
              "      <th></th>\n",
              "      <th>Date</th>\n",
              "      <th>Medium</th>\n",
              "    </tr>\n",
              "  </thead>\n",
              "  <tbody>\n",
              "    <tr>\n",
              "      <th>0</th>\n",
              "      <td>2021-01-31</td>\n",
              "      <td>84</td>\n",
              "    </tr>\n",
              "    <tr>\n",
              "      <th>1</th>\n",
              "      <td>2021-02-01</td>\n",
              "      <td>84</td>\n",
              "    </tr>\n",
              "    <tr>\n",
              "      <th>2</th>\n",
              "      <td>2021-02-02</td>\n",
              "      <td>89</td>\n",
              "    </tr>\n",
              "    <tr>\n",
              "      <th>3</th>\n",
              "      <td>2021-02-03</td>\n",
              "      <td>90</td>\n",
              "    </tr>\n",
              "    <tr>\n",
              "      <th>4</th>\n",
              "      <td>2021-02-04</td>\n",
              "      <td>93</td>\n",
              "    </tr>\n",
              "  </tbody>\n",
              "</table>\n",
              "</div>"
            ],
            "text/plain": [
              "         Date  Medium\n",
              "0  2021-01-31      84\n",
              "1  2021-02-01      84\n",
              "2  2021-02-02      89\n",
              "3  2021-02-03      90\n",
              "4  2021-02-04      93"
            ]
          },
          "metadata": {
            "tags": []
          },
          "execution_count": 49
        }
      ]
    },
    {
      "cell_type": "code",
      "metadata": {
        "id": "nz6_-O28iKfK"
      },
      "source": [
        "med_predicted.to_excel('baseline_lstm.xlsx')"
      ],
      "execution_count": 50,
      "outputs": []
    },
    {
      "cell_type": "code",
      "metadata": {
        "id": "Hef0Rd0-ifBn"
      },
      "source": [
        ""
      ],
      "execution_count": null,
      "outputs": []
    }
  ]
}